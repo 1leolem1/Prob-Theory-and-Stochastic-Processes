{
 "cells": [
  {
   "cell_type": "code",
   "execution_count": 3,
   "id": "2716b311-91c3-44d8-af2d-09c59009fa3a",
   "metadata": {},
   "outputs": [],
   "source": [
    "import numpy as np\n",
    "import matplotlib.pyplot as plt"
   ]
  },
  {
   "cell_type": "code",
   "execution_count": 4,
   "id": "6c9038e2-9cce-49ab-81da-dba083556269",
   "metadata": {},
   "outputs": [],
   "source": [
    "PRECISION = 0.0001\n",
    "dx = 1000000 # number of interval between test values\n",
    "x = np.linspace(0,2,dx)\n",
    "\n",
    "y = 1.5*x**5 + 0.5*x**4 - 0.5*x**3 - 1.5*x**2 - 2.5*x -3.5"
   ]
  },
  {
   "cell_type": "code",
   "execution_count": 5,
   "id": "a13d6391-216c-47c9-bdcb-1a9765939960",
   "metadata": {},
   "outputs": [
    {
     "data": {
      "image/png": "[encoded data removed]",
      "text/plain": [
       "<Figure size 432x288 with 1 Axes>"
      ]
     },
     "metadata": {
      "needs_background": "light"
     },
     "output_type": "display_data"
    }
   ],
   "source": [
    "# setting the axes at the centre\n",
    "plt.axhline(y=0, color='0', linestyle='-', linewidth=0.8)\n",
    "plt.plot(x,y)\n",
    "plt.title(\"Function of alpha on [0;2]\")\n",
    "plt.show()"
   ]
  },
  {
   "cell_type": "code",
   "execution_count": 6,
   "id": "28283c60-6145-4321-adf5-bc071b9a7051",
   "metadata": {},
   "outputs": [
    {
     "name": "stdout",
     "output_type": "stream",
     "text": [
      "The root value of x we approximated is: 1.4492514492514492\n",
      "\n",
      "Numpy approximated the root at: (1.4492539953606995+0j)\n"
     ]
    }
   ],
   "source": [
    "Found =  False\n",
    "Stop = False\n",
    "\n",
    "for a in x:\n",
    "    if 0 < np.abs(1.5*a**5 + 0.5*a**4 - 0.5*a**3 - 1.5*a**2 - 2.5*a -3.5) < np.abs(PRECISION) and not Stop:\n",
    "        print(f'The root value of x we approximated is: {a}\\n')\n",
    "        Found = True\n",
    "        Stop = True\n",
    "\n",
    "        \n",
    "if Found:\n",
    "    pass\n",
    "else:\n",
    "    print(\"none found, increase rate dx or get a lower precision\")\n",
    "\n",
    "    \n",
    "coef = [1.5, 0.5, -0.5, -1.5, -2.5, -3.5] # to get numpy roots calculation\n",
    "print(f\"Numpy approximated the root at: {np.roots(coef)[0]}\")\n",
    "    "
   ]
  },
  {
   "cell_type": "code",
   "execution_count": 7,
   "id": "55f62864-cb92-4e12-81b5-05cfd098c318",
   "metadata": {},
   "outputs": [
    {
     "name": "stdout",
     "output_type": "stream",
     "text": [
      "lambda1 = -0.3710489380810337\n",
      "lambda2 = 2.283301319518481\n"
     ]
    }
   ],
   "source": [
    "# To find Lambda1:\n",
    "\n",
    "Alpha = 1.449253995360701\n",
    "Lambda1 =-np.log(1.449253995360701) \n",
    "\n",
    "# To find Lambda2:\n",
    "\n",
    "c = 1/(Alpha+Alpha**2+Alpha**3+Alpha**4+Alpha**5+Alpha**6)\n",
    "Lambda2 = -np.log(c)-1\n",
    "\n",
    "print(f'lambda1 = {Lambda1}')\n",
    "print(f'lambda2 = {Lambda2}')\n",
    "      "
   ]
  },
  {
   "cell_type": "code",
   "execution_count": 8,
   "id": "8d66af60-d41d-4b46-a58b-00c240f33d35",
   "metadata": {},
   "outputs": [
    {
     "name": "stdout",
     "output_type": "stream",
     "text": [
      "Check 1: Sum of Prob should be equal to 1. Check = 0.9999999999999998\n",
      "Check 2: Expectation should be equal to 4.5 Check = 4.5\n",
      "\n",
      "p1 = 0.054353167826491446\n",
      "p2 = 0.07877154563305346\n",
      "p3 = 0.11415997722944046\n",
      "p4 = 0.16544680311005328\n",
      "p5 = 0.2397744404269\n",
      "p6 = 0.3474940657740611\n"
     ]
    }
   ],
   "source": [
    "# calc probabilities:\n",
    "\n",
    "p1 = np.exp(-Lambda1-Lambda2-1)\n",
    "p2 = np.exp(-2*Lambda1-Lambda2-1)\n",
    "p3 = np.exp(-3*Lambda1-Lambda2-1)\n",
    "p4 = np.exp(-4*Lambda1-Lambda2-1)\n",
    "p5 = np.exp(-5*Lambda1-Lambda2-1)\n",
    "p6 = np.exp(-6*Lambda1-Lambda2-1)\n",
    "\n",
    "print(f'Check 1: Sum of Prob should be equal to 1. Check = {p1+p2+p3+p4+p5+p6}')\n",
    "print(f'Check 2: Expectation should be equal to 4.5 Check = {p1+2*p2+3*p3+4*p4+5*p5+6*p6}\\n')\n",
    "\n",
    "print(f'p1 = {p1}\\np2 = {p2}\\np3 = {p3}\\np4 = {p4}\\np5 = {p5}\\np6 = {p6}')"
   ]
  }
 ],
 "metadata": {
  "kernelspec": {
   "display_name": "Python 3",
   "language": "python",
   "name": "python3"
  },
  "language_info": {
   "codemirror_mode": {
    "name": "ipython",
    "version": 3
   },
   "file_extension": ".py",
   "mimetype": "text/x-python",
   "name": "python",
   "nbconvert_exporter": "python",
   "pygments_lexer": "ipython3",
   "version": "3.8.8"
  }
 },
 "nbformat": 4,
 "nbformat_minor": 5
}
