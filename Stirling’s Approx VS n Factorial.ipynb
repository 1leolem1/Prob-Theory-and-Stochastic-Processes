{
 "cells": [
  {
   "cell_type": "code",
   "execution_count": 12,
   "id": "1af4db9f",
   "metadata": {},
   "outputs": [],
   "source": [
    "import matplotlib.pyplot as plt\n",
    "import numpy as np\n"
   ]
  },
  {
   "cell_type": "code",
   "execution_count": 37,
   "id": "a8100103",
   "metadata": {},
   "outputs": [
    {
     "data": {
      "text/plain": [
       "<function matplotlib.pyplot.show(close=None, block=None)>"
      ]
     },
     "execution_count": 37,
     "metadata": {},
     "output_type": "execute_result"
    },
    {
     "data": {
      "image/png": "[encoded data removed]",
      "text/plain": [
       "<Figure size 432x288 with 1 Axes>"
      ]
     },
     "metadata": {
      "needs_background": "light"
     },
     "output_type": "display_data"
    }
   ],
   "source": [
    "LEN =  5\n",
    "PI = 3.14159\n",
    "E = 2.71828\n",
    "NFACT = []\n",
    "SAPPROX = []\n",
    "\n",
    "a = [x for x in range(LEN + 1)]\n",
    "\n",
    "def factorial(n):\n",
    "    if n < 2:\n",
    "        return 1\n",
    "    else:\n",
    "        return n * factorial(n-1)\n",
    "\n",
    "for n in range(LEN+1):\n",
    "    NFACT.append(factorial(n))\n",
    "\n",
    "x = np.linspace(0,LEN,100)\n",
    "y = np.sqrt(2*PI*x)*((x/E)**x)\n",
    "\n",
    "\n",
    "plt.scatter(a, NFACT)\n",
    "plt.plot(x, y)\n",
    "\n",
    "plt.show"
   ]
  }
 ],
 "metadata": {
  "kernelspec": {
   "display_name": "Python 3",
   "language": "python",
   "name": "python3"
  },
  "language_info": {
   "codemirror_mode": {
    "name": "ipython",
    "version": 3
   },
   "file_extension": ".py",
   "mimetype": "text/x-python",
   "name": "python",
   "nbconvert_exporter": "python",
   "pygments_lexer": "ipython3",
   "version": "3.8.8"
  }
 },
 "nbformat": 4,
 "nbformat_minor": 5
}
